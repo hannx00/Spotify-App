{
 "cells": [
  {
   "cell_type": "code",
   "execution_count": 10,
   "metadata": {},
   "outputs": [],
   "source": [
    "import numpy as np\n",
    "import spotipy\n",
    "from spotipy.oauth2 import SpotifyOAuth\n",
    "from credentials import CLIENT_ID, CLIENT_SECRET"
   ]
  },
  {
   "cell_type": "code",
   "execution_count": 2,
   "metadata": {},
   "outputs": [],
   "source": [
    "SPOTIPY_CLIENT_ID= CLIENT_ID\n",
    "SPOTIPY_CLIENT_SECRET= CLIENT_SECRET\n",
    "SPOTIPY_REDIRECT_URI= \"http://127.0.0.1:5500/\"\n",
    "SCOPE = \"user-top-read\""
   ]
  },
  {
   "cell_type": "code",
   "execution_count": 3,
   "metadata": {},
   "outputs": [],
   "source": [
    "sp = spotipy.Spotify(auth_manager=SpotifyOAuth(\n",
    "    client_id=SPOTIPY_CLIENT_ID, \n",
    "    client_secret=SPOTIPY_CLIENT_SECRET, \n",
    "    redirect_uri=SPOTIPY_REDIRECT_URI, \n",
    "    scope=SCOPE)\n",
    "    )"
   ]
  },
  {
   "cell_type": "code",
   "execution_count": 4,
   "metadata": {},
   "outputs": [],
   "source": [
    "results = sp.current_user_top_tracks(limit= 50, time_range=\"short_term\")\n",
    "track_ids = [song['id'] for song in results[\"items\"]]\n",
    "all_track_info = {}\n",
    "\n",
    "for id in track_ids:\n",
    "    meta = sp.track(id)\n",
    "    track_info = {}\n",
    "    track_info['name'] = meta['name']\n",
    "    track_info['album'] = meta['album']['name']\n",
    "    track_info['artist'] = meta['album']['artists'][0]['name']\n",
    "    track_info['url'] = meta['external_urls']['spotify']\n",
    "    track_info['album_cover'] = meta['album']['images'][0]['url']\n",
    "    all_track_info[id] = track_info"
   ]
  },
  {
   "cell_type": "code",
   "execution_count": 15,
   "metadata": {},
   "outputs": [],
   "source": [
    "import json\n",
    "with open('lilian_spotify.json', 'w') as f:\n",
    "    json.dump(all_track_info, f)"
   ]
  },
  {
   "cell_type": "code",
   "execution_count": 19,
   "metadata": {},
   "outputs": [],
   "source": [
    "import json\n",
    "with open('han_spotify.json') as f:\n",
    "    han_track_ids = json.load(f)"
   ]
  },
  {
   "cell_type": "markdown",
   "metadata": {},
   "source": [
    "# Insights"
   ]
  },
  {
   "cell_type": "code",
   "execution_count": 29,
   "metadata": {},
   "outputs": [],
   "source": [
    "def unique_tracks(track_id_list):\n",
    "    track_ID_count = np.unique(track_id_list, return_counts=True)\n",
    "    return track_ID_count[0][np.where(track_ID_count[1]>1)]"
   ]
  },
  {
   "cell_type": "code",
   "execution_count": 49,
   "metadata": {},
   "outputs": [],
   "source": [
    "def artists(track_id_list):\n",
    "    all_track_artists = []\n",
    "    for lst in track_id_list:\n",
    "         all_track_artists.append(np.unique([lst[key]['artist'] for key in lst]))\n",
    "    all_artist_count = np.unique(np.concatenate(all_track_artists), return_counts=True)\n",
    "    return all_artist_count[0][np.where(all_artist_count[1]>1)]"
   ]
  },
  {
   "cell_type": "code",
   "execution_count": 66,
   "metadata": {},
   "outputs": [],
   "source": [
    "def audio_features(track_id_list):\n",
    "    features = [\"danceability\", \"energy\", \"liveness\", \"loudness\", \"speechiness\", \"valence\", \"instrumentalness\"]\n",
    "\n",
    "    track_audio_feature = {}\n",
    "    for track_list in track_id_list:\n",
    "        for ID in track_list:\n",
    "            track_feature = sp.audio_features(ID)[0]\n",
    "            for feature in features:\n",
    "                track_audio_feature[feature] =  track_audio_feature.get(feature,0) + track_feature[feature]\n",
    "\n",
    "    for feature in features:\n",
    "        track_audio_feature[feature] = track_audio_feature.get(feature)/(len(track_id_list)*len(track_id_list[0]))\n",
    "    \n",
    "    return track_audio_feature"
   ]
  },
  {
   "cell_type": "code",
   "execution_count": 30,
   "metadata": {},
   "outputs": [],
   "source": [
    "all_unique_tracks = unique_tracks(list(all_track_info.keys())+list(han_track_ids.keys()))"
   ]
  },
  {
   "cell_type": "code",
   "execution_count": 70,
   "metadata": {},
   "outputs": [],
   "source": [
    "artists([all_track_info, han_track_ids])"
   ]
  },
  {
   "cell_type": "code",
   "execution_count": 67,
   "metadata": {},
   "outputs": [],
   "source": [
    "all_track_audio_features = audio_features([all_track_info, han_track_ids])"
   ]
  },
  {
   "cell_type": "code",
   "execution_count": null,
   "metadata": {},
   "outputs": [],
   "source": [
    "if 'liveness'>0.8:\n",
    "    print(\"You listen to a lot of live music!\")\n",
    "\n",
    "if 'energy' >0.5:\n",
    "    print(\"Your music is really energetic!\")\n",
    "\n",
    "if 'danceability'>0.5:\n",
    "    print(\"Have you been having dance parties?\")\n",
    "\n",
    "if 'valence' <= 0.5:\n",
    "    print(\"Looks like your music taste is on the sad side. Do you need a pick-me-up?\")\n",
    "else:\n",
    "    print(\"Your music says you've been in a good mood this week!\")\n",
    "\n",
    "if 'instrumentalness' >=0.5:\n",
    "    print(\"You've got instrumental vibes going on this week.\")\n"
   ]
  }
 ],
 "metadata": {
  "interpreter": {
   "hash": "ae9e5fb05c4e07405c95453073fad91cde291ec1571923ebb60ab806dff8b1c9"
  },
  "kernelspec": {
   "display_name": "Python 3.9.4 64-bit",
   "language": "python",
   "name": "python3"
  },
  "language_info": {
   "codemirror_mode": {
    "name": "ipython",
    "version": 3
   },
   "file_extension": ".py",
   "mimetype": "text/x-python",
   "name": "python",
   "nbconvert_exporter": "python",
   "pygments_lexer": "ipython3",
   "version": "3.9.4"
  },
  "orig_nbformat": 4
 },
 "nbformat": 4,
 "nbformat_minor": 2
}
